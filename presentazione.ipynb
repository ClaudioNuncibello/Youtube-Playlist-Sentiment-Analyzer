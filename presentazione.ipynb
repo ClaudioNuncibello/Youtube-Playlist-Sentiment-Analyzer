{
 "cells": [
  {
   "cell_type": "markdown",
   "id": "a59e5d04-2c00-463a-a70b-cbc42f7aeb47",
   "metadata": {},
   "source": [
    "## Claudio Nuncibello\n",
    "### A.A. 2023/2024\n",
    "### Project for: Tecnologies for Advanced Programming"
   ]
  },
  {
   "cell_type": "markdown",
   "id": "e6785f94-d1ef-437a-bc99-76c9795cc1ff",
   "metadata": {},
   "source": [
    "<img src=\"jupyterCheckpoint/copertina.jpg\">"
   ]
  },
  {
   "cell_type": "markdown",
   "id": "4c30ce92-570f-4e8a-adf1-80e88e4d8a3d",
   "metadata": {},
   "source": [
    "# DOCUMENTATION"
   ]
  },
  {
   "cell_type": "markdown",
   "id": "6e74a1b9-feee-41a2-96e7-810f2bf54fdd",
   "metadata": {},
   "source": [
    "### Introduction: Evaluating Video Popularity in Playlists through Sentiment Analysis"
   ]
  },
  {
   "cell_type": "markdown",
   "id": "c99d6c19-0449-4533-a435-af27d948bd42",
   "metadata": {},
   "source": [
    "Nell'era digitale, la quantità di contenuti video disponibili online è cresciuta esponenzialmente, con YouTube che si posiziona come una delle principali piattaforme di condivisione video. Le playlist di YouTube, che raccolgono video su argomenti specifici, rappresentano una risorsa inestimabile per creatori di contenuti e spettatori. Tuttavia, valutare l'impatto e il gradimento di questi video può risultare complesso senza strumenti adeguati.\n",
    "\n",
    "Il nostro progetto si propone di affrontare questa sfida raccogliendo e analizzando i commenti dei video all'interno di una playlist specifica di YouTube. Attraverso l'uso di tecniche di Sentiment Analysis, intendiamo valutare il tasso di gradimento dei video, fornendo una panoramica dettagliata delle reazioni degli spettatori. La Sentiment Analysis, infatti, permette di identificare automaticamente il tono emozionale dei commenti, classificandoli come positivi, negativi o neutri.\n",
    "\n",
    "Gli obiettivi principali del progetto sono:\n",
    "\n",
    "1. **Raccolta dei Commenti**: Utilizzare le API di YouTube per estrarre i commenti di tutti i video inclusi nella playlist selezionata.\n",
    "2. **Analisi del Sentimento**: Applicare algoritmi di Sentiment Analysis per determinare il sentiment predominante nei commenti, identificando quelli positivi, negativi e neutri.\n",
    "3. **Visualizzazione dei Dati**: Costruire grafici e altre rappresentazioni visive per interpretare i dati raccolti e analizzati, fornendo insights chiari e immediati sul gradimento dei video."
   ]
  },
  {
   "cell_type": "markdown",
   "id": "0ea82a5e-1829-41e3-8622-a20fca656f63",
   "metadata": {},
   "source": [
    "### THE PIPELINE"
   ]
  },
  {
   "cell_type": "markdown",
   "id": "d0dcf9b9-bcf9-45ef-8b44-0be2de82b43b",
   "metadata": {},
   "source": [
    "#### The CHOICE"
   ]
  },
  {
   "cell_type": "markdown",
   "id": "d0d3c4c6-adcd-492e-97c8-a2602399ba60",
   "metadata": {},
   "source": [
    "<img src=\"jupyterCheckpoint/scelta.png\" width=700px>"
   ]
  },
  {
   "cell_type": "markdown",
   "id": "78af5bda-08f6-49e6-aa9f-ee81eef982bf",
   "metadata": {},
   "source": [
    "<img src=\"jupyterCheckpoint/pipeline.png\">"
   ]
  },
  {
   "cell_type": "markdown",
   "id": "e417c540-3175-4854-a683-53d67a8a6033",
   "metadata": {},
   "source": [
    "La mia pipeline utilizza container Docker per integrare Logstash, Kafka, Spark, Elasticsearch e Kibana. I dati vengono raccolti tramite le API di YouTube, concentrandosi sui commenti di una specifica playlist. Ecco come funziona la pipeline:\n",
    "\n",
    "**Logstash**:\n",
    "Pre-elabora i dati raccolti dalle API di YouTube, applicando trasformazioni e arricchimenti prima di inviarli a Kafka.\n",
    "\n",
    "**Kafka**:\n",
    "Gestisce lo streaming dei dati in tempo reale, fornendo un sistema di messaggistica distribuito affidabile e scalabile.\n",
    "\n",
    "**Spark**:\n",
    "Esegue l'analisi dei sentimenti sui dati, sfruttando la potenza di calcolo in-memory per processare grandi volumi di dati con bassa latenza.\n",
    "\n",
    "**Elasticsearch**:\n",
    "Indicizza i risultati dell'analisi dei sentimenti, permettendo query rapide e analisi complesse.\n",
    "\n",
    "**Kibana**:\n",
    "Fornisce strumenti di visualizzazione interattivi per creare dashboard e monitorare le tendenze, offrendo una visione chiara dei dati elaborati."
   ]
  },
  {
   "cell_type": "markdown",
   "id": "40e49497-1d17-4202-86c4-0ed58f9e163a",
   "metadata": {},
   "source": [
    "<img src=\"jupyterCheckpoint/problemi2.png\" width=\"400px\">"
   ]
  },
  {
   "cell_type": "markdown",
   "id": "a3725913-2552-40e4-861b-c08e954b9a38",
   "metadata": {},
   "source": [
    "## I miei dati"
   ]
  },
  {
   "cell_type": "markdown",
   "id": "e47385e5-0347-449a-b11f-cdd99ee2801e",
   "metadata": {},
   "source": [
    "<img src=\"jupyterCheckpoint/schema.png\">"
   ]
  },
  {
   "cell_type": "markdown",
   "id": "418196d8-ebe8-4231-b4a5-07f5c2d40afc",
   "metadata": {},
   "source": [
    "## sentiment Analysis\n",
    "Il codice utilizza la libreria NLTK (Natural Language Toolkit) per eseguire il preprocessing del testo prima di analizzarne il sentiment con l'analizzatore VADER. NLTK è utilizzato per tokenizzare il testo in parole, rimuovere stopwords (parole non significative come articoli e congiunzioni), e applicare la lemmatizzazione per ridurre le parole alla loro forma base. Questo preprocessing assicura che il testo sia pulito e ottimizzato per l'analisi del sentiment con VADER, che valuta il sentimento complessivo del testo basandosi su parole chiave e punteggi di valenza."
   ]
  },
  {
   "cell_type": "markdown",
   "id": "bc8ac735-8bf1-4c2d-9fc9-a438d6ff1b04",
   "metadata": {},
   "source": [
    "<img src=\"jupyterCheckpoint/sentiment.png\">"
   ]
  },
  {
   "cell_type": "markdown",
   "id": "9f426502-4ff8-4717-a046-a446137b75d8",
   "metadata": {},
   "source": [
    "\n",
    "<img src=\"jupyterCheckpoint/problemi.png\" alt=\"Image 1\">"
   ]
  },
  {
   "cell_type": "markdown",
   "id": "8cd039b0-73d0-415b-b29a-a90858f5e3e1",
   "metadata": {},
   "source": [
    "<br><br><br><br><br>"
   ]
  },
  {
   "cell_type": "markdown",
   "id": "34adc6ab-76fb-4bb8-9dff-54f190e5191b",
   "metadata": {},
   "source": [
    "## Visual Analysis: Trends and Correlations in Tracked Data Using Kibana"
   ]
  },
  {
   "cell_type": "markdown",
   "id": "3bef5e80-6262-4a8f-b3a8-0763530fa252",
   "metadata": {},
   "source": [
    "**Media del Sentiment per Ogni Video:**\n",
    "\n",
    "**Grafico a Barre:** Mostra il punteggio medio del sentiment per ogni video tramite barre, consentendo di confrontare facilmente le tendenze emotive tra video diversi.\n",
    "\n",
    "**Tabella:** Visualizza dettagliatamente i punteggi medi del sentiment per ogni video in formato tabellare, offrendo una visione strutturata dei risultati dell'analisi del sentiment."
   ]
  },
  {
   "cell_type": "markdown",
   "id": "477a8272-bb26-48d3-93e2-c9969cbf3954",
   "metadata": {},
   "source": [
    "<img src=\"jupyterCheckpoint/grafico1.png\">"
   ]
  },
  {
   "cell_type": "markdown",
   "id": "53267285-86b6-40a4-9aa5-48ee1458bed6",
   "metadata": {},
   "source": [
    "**Timeline del Punteggio del Sentiment:**\n",
    "\n",
    "Grafico a linea che traccia il punteggio del sentiment nel tempo, descrivendo le variazioni emotive e le tendenze nel periodo analizzato."
   ]
  },
  {
   "cell_type": "markdown",
   "id": "6ff7901f-0931-42e8-9de1-d5f4f19094cc",
   "metadata": {},
   "source": [
    "<img src=\"jupyterCheckpoint/2.png\">"
   ]
  },
  {
   "cell_type": "markdown",
   "id": "b8ba1de7-2872-424d-aeb4-28d25359579b",
   "metadata": {},
   "source": [
    "**Heatmap dell'Arrivo dei Commenti per ID Video:**\n",
    "\n",
    "Heatmap che illustra la frequenza di arrivo dei commenti suddivisi per ID video in diversi periodi di tempo, utilizzando l'intensità del colore per evidenziare i picchi di attività di commento."
   ]
  },
  {
   "cell_type": "markdown",
   "id": "583de682-16e3-479a-beaf-e898dccd8c1e",
   "metadata": {},
   "source": [
    "<img src=\"jupyterCheckpoint/3.png\">"
   ]
  },
  {
   "cell_type": "markdown",
   "id": "f0d9f76a-505a-46f8-8f7c-2421c77f986c",
   "metadata": {},
   "source": [
    "**Timeline Generale dell'Arrivo dei Commenti:**\n",
    "\n",
    "Grafico a barre che rappresenta l'arrivo dei commenti nel tempo, fornendo una panoramica dell'attività di commento e identificando i periodi di maggiore interazione."
   ]
  },
  {
   "cell_type": "markdown",
   "id": "a042d392-d7c0-4403-9b6e-0f2881b399fe",
   "metadata": {},
   "source": [
    "<img src=\"jupyterCheckpoint/4.png\">"
   ]
  },
  {
   "cell_type": "markdown",
   "id": "cd3b63c9-6ff5-45e4-8ca0-535df901c3e6",
   "metadata": {},
   "source": [
    "**Numero di Commenti per Ogni Video:**\n",
    "\n",
    "Grafico a barre che mostra il numero totale di commenti ricevuti per ogni video, consentendo un'analisi comparativa dell'interazione degli utenti tra video diversi."
   ]
  },
  {
   "cell_type": "markdown",
   "id": "702389c0-a279-48a4-9303-a1265e8a59aa",
   "metadata": {},
   "source": [
    "<img src=\"jupyterCheckpoint/5.png\">"
   ]
  },
  {
   "cell_type": "markdown",
   "id": "1af23b43-928d-4ae6-9335-b39dea6299c0",
   "metadata": {},
   "source": [
    "<br><br><br><br><br>"
   ]
  },
  {
   "cell_type": "markdown",
   "id": "06c3e50e-ebac-4263-8277-56348082b3aa",
   "metadata": {},
   "source": [
    "<!DOCTYPE html>\n",
    "<html lang=\"en\">\n",
    "<head>\n",
    "    <meta charset=\"UTF-8\">\n",
    "    <meta name=\"viewport\" content=\"width=device-width, initial-scale=1.0\">\n",
    "    <style>\n",
    "        .image-container {\n",
    "            display: flex; /* Utilizza flexbox per allineare le immagini */\n",
    "        }\n",
    "        .image-container img {\n",
    "            width: 50%; /* Larghezza del 50% per ciascuna immagine */\n",
    "            height: auto; /* Mantieni l'aspect ratio */\n",
    "            display: block; /* Rimuove il margine inferiore */\n",
    "        }\n",
    "    </style>\n",
    "</head>\n",
    "<body>\n",
    "\n",
    "<div class=\"image-container\">\n",
    "    <img src=\"jupyterCheckpoint/meme_fine.png\" alt=\"Image 1\">\n",
    "    <img src=\"jupyterCheckpoint/STUDIO.png\" alt=\"Image 2\">\n",
    "</div>\n",
    "\n",
    "</body>\n",
    "</html>\n"
   ]
  },
  {
   "cell_type": "markdown",
   "id": "38f132f3-b6f2-4218-899e-29789c3a8e17",
   "metadata": {},
   "source": [
    "<br><br><br><br><br>"
   ]
  },
  {
   "cell_type": "markdown",
   "id": "6b9453c9-84b7-4283-9e25-6c3f5bc81a52",
   "metadata": {},
   "source": [
    " <img src=\"jupyterCheckpoint/FINE.png\">"
   ]
  }
 ],
 "metadata": {
  "kernelspec": {
   "display_name": "Python 3 (ipykernel)",
   "language": "python",
   "name": "python3"
  },
  "language_info": {
   "codemirror_mode": {
    "name": "ipython",
    "version": 3
   },
   "file_extension": ".py",
   "mimetype": "text/x-python",
   "name": "python",
   "nbconvert_exporter": "python",
   "pygments_lexer": "ipython3",
   "version": "3.10.13"
  }
 },
 "nbformat": 4,
 "nbformat_minor": 5
}
